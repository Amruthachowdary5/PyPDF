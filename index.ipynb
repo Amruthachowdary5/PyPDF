{
 "cells": [
  {
   "cell_type": "markdown",
   "metadata": {},
   "source": [
    "## Install Dependencies"
   ]
  },
  {
   "cell_type": "code",
   "execution_count": 1,
   "metadata": {},
   "outputs": [
    {
     "name": "stdout",
     "output_type": "stream",
     "text": [
      "Defaulting to user installation because normal site-packages is not writeable\n",
      "Collecting pypdf\n",
      "  Downloading pypdf-4.0.1-py3-none-any.whl.metadata (7.4 kB)\n",
      "Downloading pypdf-4.0.1-py3-none-any.whl (283 kB)\n",
      "   ---------------------------------------- 0.0/284.0 kB ? eta -:--:--\n",
      "   ---------------------------------------- 0.0/284.0 kB ? eta -:--:--\n",
      "   ---- ---------------------------------- 30.7/284.0 kB 640.0 kB/s eta 0:00:01\n",
      "   ------------ --------------------------- 92.2/284.0 kB 1.1 MB/s eta 0:00:01\n",
      "   ---------------------------------------- 284.0/284.0 kB 2.2 MB/s eta 0:00:00\n",
      "Installing collected packages: pypdf\n",
      "Successfully installed pypdf-4.0.1\n",
      "Note: you may need to restart the kernel to use updated packages.\n"
     ]
    },
    {
     "name": "stderr",
     "output_type": "stream",
     "text": [
      "\n",
      "[notice] A new release of pip is available: 23.3.2 -> 24.0\n",
      "[notice] To update, run: C:\\Users\\modup\\AppData\\Local\\Microsoft\\WindowsApps\\PythonSoftwareFoundation.Python.3.12_qbz5n2kfra8p0\\python.exe -m pip install --upgrade pip\n"
     ]
    }
   ],
   "source": [
    "pip install -q pypdf langchain_community\n"
   ]
  },
  {
   "cell_type": "markdown",
   "metadata": {},
   "source": [
    "## Loading PyPDF"
   ]
  },
  {
   "cell_type": "code",
   "execution_count": 26,
   "metadata": {},
   "outputs": [],
   "source": [
    "from langchain_community.document_loaders import PyPDFLoader\n",
    "\n",
    "loader = PyPDFLoader(\"judgment.pdf\")\n",
    "pages = loader.load()"
   ]
  },
  {
   "cell_type": "markdown",
   "metadata": {},
   "source": [
    "## Extracting Single Page Content"
   ]
  },
  {
   "cell_type": "code",
   "execution_count": 105,
   "metadata": {},
   "outputs": [
    {
     "name": "stdout",
     "output_type": "stream",
     "text": [
      " \n",
      " \n",
      "FMCG  HOTELS  PAPERBOARDS & PACKAGING   AGRI-BUSINESS   INFORMATION TECHNOLOGY \n",
      "Visit us at www.itcportal.com   Corporate Identity Number : L16005WB1910PLC001985  e-mail : enduringvalue@itc.in  \n",
      "ITC Limited \n",
      "Virginia House  \n",
      "37 J. L. Nehru Road  \n",
      "Kolkata 700 071, India  \n",
      "Tel. : 91 33 2288 9371 \n",
      "Fax :  91 33 2288 4016 / 1256 / 2259 / 2260          \n",
      " \n",
      " \n",
      " \n",
      "                11th July, 2023 \n",
      " \n",
      " \n",
      "The Manager \n",
      "Listing Department \n",
      "National Stock Exchange of  \n",
      "India Ltd. \n",
      "Exchange Plaza  \n",
      "Plot No. C-1, G Block \n",
      "Bandra-Kurla Complex  \n",
      "Bandra (East) \n",
      "Mumbai 400 051 The General Manager \n",
      "Dept. of Corporate Services \n",
      "BSE Ltd. \n",
      "P. J. Towers \n",
      "Dalal Street \n",
      "Mumbai 400 001 The Secretary \n",
      "The Calcutta Stock \n",
      "Exchange Ltd. \n",
      "7, Lyons Range \n",
      "Kolkata 700 001 \n",
      " \n",
      " \n",
      " \n",
      "Dear Sirs, \n",
      " \n",
      "Report and Accounts for the financial year ended 31st March, 2023  \n",
      " \n",
      "Further to our letter dated 21st June, 2023, we hereby enclose, in terms of Regulations 30 and \n",
      "34 of the SEBI (Listing Obligations and Disclosure Requirements) Regulations, 2015,                     \n",
      "the Report and Accounts of the Company for the financial year ended 31st March, 2023 \n",
      "together with the Notice dated 18th May, 2023 convening the 112th Annual General Meeting \n",
      "(AGM) of the Company on 11th August, 2023.  \n",
      " \n",
      "The aforesaid Report and Accounts and AGM Notice are also being uploaded on the \n",
      "Company’s corporate website www.itcportal.com .  \n",
      " \n",
      " \n",
      "Yours faithfully, \n",
      "ITC Limited  \n",
      " \n",
      " \n",
      " \n",
      "(R. K. Singhi) \n",
      "Executive Vice President & \n",
      "Company Secretary \n",
      " \n",
      " \n",
      "Encl. as above. \n",
      " \n",
      " \n",
      " \n"
     ]
    }
   ],
   "source": [
    "print(pages[0].page_content)"
   ]
  },
  {
   "cell_type": "markdown",
   "metadata": {},
   "source": [
    "## Extracting Multiple Page Content"
   ]
  },
  {
   "cell_type": "code",
   "execution_count": 119,
   "metadata": {},
   "outputs": [
    {
     "name": "stdout",
     "output_type": "stream",
     "text": [
      " \n",
      " \n",
      "FMCG  HOTELS  PAPERBOARDS & PACKAGING   AGRI-BUSINESS   INFORMATION TECHNOLOGY \n",
      "Visit us at www.itcportal.com   Corporate Identity Number : L16005WB1910PLC001985  e-mail : enduringvalue@itc.in  \n",
      "ITC Limited \n",
      "Virginia House  \n",
      "37 J. L. Nehru Road  \n",
      "Kolkata 700 071, India  \n",
      "Tel. : 91 33 2288 9371 \n",
      "Fax :  91 33 2288 4016 / 1256 / 2259 / 2260          \n",
      " \n",
      " \n",
      " \n",
      "                11th July, 2023 \n",
      " \n",
      " \n",
      "The Manager \n",
      "Listing Department \n",
      "National Stock Exchange of  \n",
      "India Ltd. \n",
      "Exchange Plaza  \n",
      "Plot No. C-1, G Block \n",
      "Bandra-Kurla Complex  \n",
      "Bandra (East) \n",
      "Mumbai 400 051 The General Manager \n",
      "Dept. of Corporate Services \n",
      "BSE Ltd. \n",
      "P. J. Towers \n",
      "Dalal Street \n",
      "Mumbai 400 001 The Secretary \n",
      "The Calcutta Stock \n",
      "Exchange Ltd. \n",
      "7, Lyons Range \n",
      "Kolkata 700 001 \n",
      " \n",
      " \n",
      " \n",
      "Dear Sirs, \n",
      " \n",
      "Report and Accounts for the financial year ended 31st March, 2023  \n",
      " \n",
      "Further to our letter dated 21st June, 2023, we hereby enclose, in terms of Regulations 30 and \n",
      "34 of the SEBI (Listing Obligations and Disclosure Requirements) Regulations, 2015,                     \n",
      "the Report and Accounts of the Company for the financial year ended 31st March, 2023 \n",
      "together with the Notice dated 18th May, 2023 convening the 112th Annual General Meeting \n",
      "(AGM) of the Company on 11th August, 2023.  \n",
      " \n",
      "The aforesaid Report and Accounts and AGM Notice are also being uploaded on the \n",
      "Company’s corporate website www.itcportal.com .  \n",
      " \n",
      " \n",
      "Yours faithfully, \n",
      "ITC Limited  \n",
      " \n",
      " \n",
      " \n",
      "(R. K. Singhi) \n",
      "Executive Vice President & \n",
      "Company Secretary \n",
      " \n",
      " \n",
      "Encl. as above. \n",
      " \n",
      " \n",
      " \n",
      "Enduring Value \n",
      "cc: \tSecurities Exchange Commission \n",
      "Division of Corporate Finance \n",
      "Office of International Corporate Finance \n",
      "Mail Stop 3-9 \n",
      "450 Fifth Street \n",
      "Washington DC 20549 \n",
      "U.S.A.  \n",
      "cc: \tSociete de la Bourse de Luxembourg \n",
      "35A Boulevard Joseph II \n",
      "L-1840 Luxembourg  \n"
     ]
    }
   ],
   "source": [
    "page_content = [page.page_content for page in pages[0:2]]\n",
    "for content in page_content:\n",
    "    print(content)\n"
   ]
  },
  {
   "cell_type": "code",
   "execution_count": null,
   "metadata": {},
   "outputs": [],
   "source": []
  }
 ],
 "metadata": {
  "kernelspec": {
   "display_name": "Python 3",
   "language": "python",
   "name": "python3"
  },
  "language_info": {
   "codemirror_mode": {
    "name": "ipython",
    "version": 3
   },
   "file_extension": ".py",
   "mimetype": "text/x-python",
   "name": "python",
   "nbconvert_exporter": "python",
   "pygments_lexer": "ipython3",
   "version": "3.12.2"
  }
 },
 "nbformat": 4,
 "nbformat_minor": 2
}
